{
  "nbformat": 4,
  "nbformat_minor": 0,
  "metadata": {
    "colab": {
      "name": "example.ipynb",
      "provenance": [],
      "collapsed_sections": [],
      "authorship_tag": "ABX9TyMijnRTCkUglhrbPc5V4ncb",
      "include_colab_link": true
    },
    "kernelspec": {
      "name": "python3",
      "display_name": "Python 3"
    }
  },
  "cells": [
    {
      "cell_type": "markdown",
      "metadata": {
        "id": "view-in-github",
        "colab_type": "text"
      },
      "source": [
        "<a href=\"https://colab.research.google.com/github/1558121/colaboratory/blob/master/0422.ipynb\" target=\"_parent\"><img src=\"https://colab.research.google.com/assets/colab-badge.svg\" alt=\"Open In Colab\"/></a>"
      ]
    },
    {
      "cell_type": "code",
      "metadata": {
        "id": "xUNnTtig3f-8",
        "colab_type": "code",
        "colab": {
          "base_uri": "https://localhost:8080/",
          "height": 51
        },
        "outputId": "bf78e6e1-ea1c-48dd-d56a-511442445b63"
      },
      "source": [
        "x = input(\"Enter Number:\")\n",
        "total = 0\n",
        "for i in range(1, int(x) +1):\n",
        "  total += i\n",
        "print(\"total :\" + str(total))"
      ],
      "execution_count": 9,
      "outputs": [
        {
          "output_type": "stream",
          "text": [
            "Enter Number:10\n",
            "total :55\n"
          ],
          "name": "stdout"
        }
      ]
    }
  ]
}